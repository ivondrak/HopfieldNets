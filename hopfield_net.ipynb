{
 "cells": [
  {
   "cell_type": "markdown",
   "id": "c0061f99-264f-4171-971c-ae30e3a446ec",
   "metadata": {},
   "source": [
    "## Hopfield Neural Network\n",
    "### Theoretical background\n",
    "\n",
    "The author of this neural network is John Hopfield (Nobel Prize Laureate), who studied neurons similar to the perceptrons, but with some significant differences. The essence of the problem was the use of an energy function associated with the neural network, as is common with other physical systems. The Hopfield network consists of a set of neurons that are fully interconnected in both directions.\n",
    "\n",
    "<div style=\"text-align: center;\">\n",
    "    <img src=\"hopfield_net.png\" alt=\"Hopfiled Net\" style=\"width: 35%;\">\n",
    "</div>\n",
    "\n",
    "The weights of the network are symmetric in the sense that $w_{ij} = w_{ji}$. Like a perceptron, each neuron has its threshold and a step function for activation dynamics, which is again triggered by the internal potential defined by the weighted sum of outputs from surrounding neurons. Therefore, the state of the neurons can either be standard \\{0, 1\\} or bipolar \\{-1, +1\\}. Given that the latter case is more common and has a clearer mathematical framework, we will focus on it in the following.\n",
    "\n",
    "The main difference in the Hopfield model lies in the fact that inputs are applied to all neurons of the network in the form of values -1 and +1, followed by a cycle of gradual changes in neuron excitations until a stable state is reached. In other words, the outputs of the previous step become the new inputs of the current step. This process can be explained by the following scheme. The initial state represents the diversity of neuron excitations, which, since they are all interconnected, begin to influence each other. This can mean that one neuron tries to excite neurons unlike another, which tries to do the opposite. The result is finding a compromise - the network has relaxed into a stable state.\n",
    "\n",
    "Let's try to express the algorithm of the Hopfield network in the following points:\n",
    "1. **The weights $w_{ij}$ are defined**\n",
    "\n",
    "$$\n",
    "w_{ij} = \\begin{cases} \n",
    "\\sum_{s=1}^{M} x^s_i \\cdot x^s_j & \\text{if } i \\neq j, \\\\\n",
    "0 & \\text{if } i = j,\n",
    "\\end{cases}\n",
    "$$\n",
    "\n",
    "where:\n",
    "- $w_{ij}$ is the weight of the connection between neuron $i$ and neuron $j$,\n",
    "- $x^s_i$ is the $i$-th element of the $s$-th pattern in the training set, with values in $\\{ -1, +1 \\}$,\n",
    "- $M$ is the number of elements in the training set.\n",
    "\n",
    "The explanation of this weight adaptation is clarified in the following image:\n",
    "\n",
    "<div style=\"text-align: center;\">\n",
    "    <img src=\"adaptation.png\" alt=\"Hopfield Net Adaptation\" style=\"width: 35%;\">\n",
    "</div>\n",
    "\n",
    "In cases b) and d), the state of excitation of both neurons is identical. This means that the new weight of the connection will be given by the relationship:\n",
    "\n",
    "$$\n",
    "w_{ij}(t+1) = w_{ij}(t) + x_i \\cdot x_j = w_{ij}(t) + 1.\n",
    "$$\n",
    "\n",
    "This signifies a \"strengthening\" of the connection between these neurons and in the case of the network's relaxation, both neurons will strive to reach the same state. The more patterns with this state of both neurons, the greater the effort to achieve this identical state upon relaxation.\n",
    "\n",
    "In cases a) and c), the process is reversed. Thus, the new weight of the connection will have the following value:\n",
    "\n",
    "$$\n",
    "w_{ij}(t+1) = w_{ij}(t) + x_i \\cdot x_j = w_{ij}(t) - 1\n",
    "$$\n",
    "\n",
    "and the connection will evolve towards such a state that, upon relaxation of the network, the states of both neurons will be different.\n",
    "\n",
    "2. **Initialization with an unknown pattern**\n",
    "$$\n",
    "\\mu_i(0) = x_i, \\quad 1 \\leq i \\leq N\n",
    "$$\n",
    "\n",
    "where\n",
    "  - $\\mu_i(t)$ denotes the state of excitation of neuron $i$ at time $t$,\n",
    "  - $N$ represents the number of neurons in the network.\n",
    "\n",
    "3. **Iterate until a stable state is reached**\n",
    "$$\n",
    "\\mu_i(t+1) = \\text{sgn\\{+1,-1\\}}\\left(\\sum_{j=1}^{N} w_{ij} \\mu_j(t) \\right), \\quad 1 \\leq i \\leq N,\n",
    "$$\n",
    "\n",
    "4. **Continue until** \n",
    "$$\n",
    "\\mu_i(t+1) = \\mu_i(t), \\quad 1 \\leq i \\leq N\n",
    "$$\n",
    "\n",
    "#### Energy Function\n",
    "The principle of encoding and subsequently retrieving patterns can best be explained through the energy function of a Hopfield network. Let us imagine that this energy landscape has its local minima representing the patterns presented during the network's adaptation phase. The subsequent input defines a point on this energy landscape. The iterative process of the network's relaxation describes the movement of this point across the energy landscape towards one of the stable points—an attractor—represented by one of its local minima.\n",
    "\n",
    "The above requirements for representing patterns of the training set in the form of local energy minima and their discovery during the relaxation process correspond to a function of the following form (for simplicity, we will consider the threshold values of neurons to be zero in subsequent discussions):\n",
    "\n",
    "The energy \\( E \\) of the Hopfield network is given by:\n",
    "\n",
    "$$\n",
    "E = -\\sum_{i} \\sum_{j \\neq i} w_{ij} x_i x_j,\n",
    "$$\n",
    "\n",
    "where:\n",
    "- $w_{ij}$ is the weight of the connection between node $i$ and $j$,\n",
    "- $x_i$ is the state of neuron $i$.\n",
    "\n",
    "A closer examination of the aforementioned energy function of the network yields the following conclusions:\n",
    "The inner sum actually represents the internal potential of neuron $i$. If its sign differs from the state of excitation of the neuron (which is actually an error state), the energy value is higher than in a correct situation where the potential and excitation of the neuron have the same sign. The more such \"mismatches\" there are in the neural network, the greater its energy."
   ]
  },
  {
   "cell_type": "markdown",
   "id": "a5dbb56f-0cc5-4f0a-9f0e-974a2010e9f6",
   "metadata": {},
   "source": [
    "### Implemenation in Python"
   ]
  },
  {
   "cell_type": "markdown",
   "id": "69abdf32-caae-46ad-987f-edf801d79982",
   "metadata": {},
   "source": [
    "**Import modules**"
   ]
  },
  {
   "cell_type": "code",
   "execution_count": 1,
   "id": "2f4c17cb-74db-491a-a236-29fc31694b7d",
   "metadata": {
    "trusted": true
   },
   "outputs": [],
   "source": [
    "import numpy as np\n",
    "from hopfield_net import HopfieldNet\n",
    "from data_set import DataSet"
   ]
  },
  {
   "cell_type": "markdown",
   "id": "3a5ca129-105d-486b-a7df-3b6aee8e3219",
   "metadata": {},
   "source": [
    "**Create training set for the patterns 1 a 2**"
   ]
  },
  {
   "cell_type": "code",
   "execution_count": 2,
   "id": "f724a628-3ae4-4d6a-a84d-765081726d64",
   "metadata": {
    "trusted": true
   },
   "outputs": [
    {
     "name": "stdout",
     "output_type": "stream",
     "text": [
      "+-------+\n",
      "|       |\n",
      "|   *   |\n",
      "|  **   |\n",
      "| * *   |\n",
      "|   *   |\n",
      "|   *   |\n",
      "|   *   |\n",
      "|       |\n",
      "+-------+\n",
      "+-------+\n",
      "|       |\n",
      "|  ***  |\n",
      "| *   * |\n",
      "|    *  |\n",
      "|   *   |\n",
      "|  *    |\n",
      "| ***** |\n",
      "|       |\n",
      "+-------+\n"
     ]
    }
   ],
   "source": [
    "patterns = [\n",
    "    [\n",
    "    [0, 0, 0, 0, 0, 0, 0],\n",
    "    [0, 0, 0, 1, 0, 0, 0],\n",
    "    [0, 0, 1, 1, 0, 0, 0],\n",
    "    [0, 1, 0, 1, 0, 0, 0],\n",
    "    [0, 0, 0, 1, 0, 0, 0],\n",
    "    [0, 0, 0, 1, 0, 0, 0],\n",
    "    [0, 0, 0, 1, 0, 0, 0],\n",
    "    [0, 0, 0, 0, 0, 0, 0],\n",
    "    ],\n",
    "    [\n",
    "    [0, 0, 0, 0, 0, 0, 0],\n",
    "    [0, 0, 1, 1, 1, 0, 0],\n",
    "    [0, 1, 0, 0, 0, 1, 0],\n",
    "    [0, 0, 0, 0, 1, 0, 0],\n",
    "    [0, 0, 0, 1, 0, 0, 0],\n",
    "    [0, 0, 1, 0, 0, 0, 0],\n",
    "    [0, 1, 1, 1, 1, 1, 0],\n",
    "    [0, 0, 0, 0, 0, 0, 0],\n",
    "    ],\n",
    "]\n",
    "\n",
    "training_set = DataSet(8, 7)\n",
    "for pattern in patterns:\n",
    "        training_set.add_pattern(pattern)\n",
    "training_set.display_patterns()\n"
   ]
  },
  {
   "cell_type": "markdown",
   "id": "2cb78298",
   "metadata": {},
   "source": [
    "**Train the Hopfield Net for these two patterns**"
   ]
  },
  {
   "cell_type": "code",
   "execution_count": 3,
   "id": "134cb860",
   "metadata": {},
   "outputs": [],
   "source": [
    "hopfield_net = HopfieldNet(training_set.num_neurons)\n",
    "hopfield_net.train(training_set.patterns)"
   ]
  },
  {
   "cell_type": "markdown",
   "id": "4463fd31",
   "metadata": {},
   "source": [
    "**Define input data set with two noisy inputs**"
   ]
  },
  {
   "cell_type": "code",
   "execution_count": 4,
   "id": "c4ca3397",
   "metadata": {},
   "outputs": [
    {
     "name": "stdout",
     "output_type": "stream",
     "text": [
      "+-------+\n",
      "|       |\n",
      "| * *  *|\n",
      "|  **   |\n",
      "| * *   |\n",
      "|   **  |\n",
      "|   *   |\n",
      "|    *  |\n",
      "|      *|\n",
      "+-------+\n",
      "+-------+\n",
      "|*      |\n",
      "|*   *  |\n",
      "|**   * |\n",
      "|    ** |\n",
      "|   *   |\n",
      "|  * *  |\n",
      "| ***** |\n",
      "|  * *  |\n",
      "+-------+\n"
     ]
    }
   ],
   "source": [
    "inputs = [\n",
    "    [\n",
    "    [0, 0, 0, 0, 0, 0, 0],\n",
    "    [0, 1, 0, 1, 0, 0, 1],\n",
    "    [0, 0, 1, 1, 0, 0, 0],\n",
    "    [0, 1, 0, 1, 0, 0, 0],\n",
    "    [0, 0, 0, 1, 1, 0, 0],\n",
    "    [0, 0, 0, 1, 0, 0, 0],\n",
    "    [0, 0, 0, 0, 1, 0, 0],\n",
    "    [0, 0, 0, 0, 0, 0, 1],\n",
    "    ],\n",
    "    [\n",
    "    [1, 0, 0, 0, 0, 0, 0],\n",
    "    [1, 0, 0, 0, 1, 0, 0],\n",
    "    [1, 1, 0, 0, 0, 1, 0],\n",
    "    [0, 0, 0, 0, 1, 1, 0],\n",
    "    [0, 0, 0, 1, 0, 0, 0],\n",
    "    [0, 0, 1, 0, 1, 0, 0],\n",
    "    [0, 1, 1, 1, 1, 1, 0],\n",
    "    [0, 0, 1, 0, 1, 0, 0],\n",
    "    ],\n",
    "]\n",
    "\n",
    "input_set = DataSet(8, 7)\n",
    "for input_pattern in inputs:\n",
    "    input_set.add_pattern(input_pattern)\n",
    "input_set.display_patterns()"
   ]
  },
  {
   "cell_type": "markdown",
   "id": "cc2ebd20",
   "metadata": {},
   "source": [
    "**Searching for the nearest pattern**\n",
    "\n",
    "Hopfield Net finds the local minima of its energy through relaxation algorithm."
   ]
  },
  {
   "cell_type": "code",
   "execution_count": 5,
   "id": "c21c4558",
   "metadata": {},
   "outputs": [
    {
     "name": "stdout",
     "output_type": "stream",
     "text": [
      "+-------+\n",
      "|       |\n",
      "|   *   |\n",
      "|  **   |\n",
      "| * *   |\n",
      "|   *   |\n",
      "|   *   |\n",
      "|   *   |\n",
      "|       |\n",
      "+-------+\n",
      "+-------+\n",
      "|       |\n",
      "|  ***  |\n",
      "| *   * |\n",
      "|    *  |\n",
      "|   *   |\n",
      "|  *    |\n",
      "| ***** |\n",
      "|       |\n",
      "+-------+\n"
     ]
    }
   ],
   "source": [
    "result_set = DataSet(8, 7)\n",
    "for i in range(len(input_set.patterns)):\n",
    "    result = hopfield_net.run(input_set.patterns[i], max_cycles=10)\n",
    "    result_set.patterns.append(result)\n",
    "result_set.display_patterns()"
   ]
  },
  {
   "cell_type": "markdown",
   "id": "509f96d0",
   "metadata": {},
   "source": [
    "Original patterns were recovered. \n",
    "\n",
    "What would happen if additional pattern was introduced to Hopfield net?"
   ]
  },
  {
   "cell_type": "code",
   "execution_count": 6,
   "id": "99790edf",
   "metadata": {},
   "outputs": [
    {
     "name": "stdout",
     "output_type": "stream",
     "text": [
      "+-------+\n",
      "|       |\n",
      "|   *   |\n",
      "|  **   |\n",
      "| * *   |\n",
      "|   *   |\n",
      "|   *   |\n",
      "|   *   |\n",
      "|       |\n",
      "+-------+\n",
      "+-------+\n",
      "|       |\n",
      "|  ***  |\n",
      "| *   * |\n",
      "|    *  |\n",
      "|   *   |\n",
      "|  *    |\n",
      "| ***** |\n",
      "|       |\n",
      "+-------+\n",
      "+-------+\n",
      "|       |\n",
      "|  ***  |\n",
      "| *   * |\n",
      "|   **  |\n",
      "|     * |\n",
      "| *   * |\n",
      "|  ***  |\n",
      "|       |\n",
      "+-------+\n"
     ]
    }
   ],
   "source": [
    "training_set.add_pattern([\n",
    "    [0, 0, 0, 0, 0, 0, 0],\n",
    "    [0, 0, 1, 1, 1, 0, 0],\n",
    "    [0, 1, 0, 0, 0, 1, 0],\n",
    "    [0, 0, 0, 1, 1, 0, 0],\n",
    "    [0, 0, 0, 0, 0, 1, 0],\n",
    "    [0, 1, 0, 0, 0, 1, 0],\n",
    "    [0, 0, 1, 1, 1, 0, 0],\n",
    "    [0, 0, 0, 0, 0, 0, 0],\n",
    "])\n",
    "\n",
    "training_set.display_patterns()"
   ]
  },
  {
   "cell_type": "markdown",
   "id": "d552aadb",
   "metadata": {},
   "source": [
    "Train Hopfiled Net with this extended and try to search for patterns with the original input set."
   ]
  },
  {
   "cell_type": "code",
   "execution_count": 7,
   "id": "fbacc445",
   "metadata": {},
   "outputs": [
    {
     "name": "stdout",
     "output_type": "stream",
     "text": [
      "+-------+\n",
      "|       |\n",
      "|  ***  |\n",
      "| *   * |\n",
      "| * **  |\n",
      "|   *   |\n",
      "|       |\n",
      "|  ***  |\n",
      "|       |\n",
      "+-------+\n",
      "+-------+\n",
      "|       |\n",
      "|  ***  |\n",
      "| *   * |\n",
      "|   **  |\n",
      "|   *   |\n",
      "|       |\n",
      "|  ***  |\n",
      "|       |\n",
      "+-------+\n"
     ]
    }
   ],
   "source": [
    "hopfield_net = HopfieldNet(training_set.num_neurons)\n",
    "hopfield_net.train(training_set.patterns)\n",
    "\n",
    "result_set = DataSet(8, 7)\n",
    "for i in range(len(input_set.patterns)):\n",
    "    result = hopfield_net.run(input_set.patterns[i], max_cycles=10)\n",
    "    result_set.patterns.append(result)\n",
    "result_set.display_patterns()"
   ]
  },
  {
   "cell_type": "markdown",
   "id": "f6f9685a",
   "metadata": {},
   "source": [
    "Result shows that none of original encoded patterns was found. Let's try to use original training ser as an input set."
   ]
  },
  {
   "cell_type": "code",
   "execution_count": 8,
   "id": "80acd71b",
   "metadata": {},
   "outputs": [
    {
     "name": "stdout",
     "output_type": "stream",
     "text": [
      "+-------+\n",
      "|       |\n",
      "|   *   |\n",
      "|  **   |\n",
      "| * *   |\n",
      "|   *   |\n",
      "|   *   |\n",
      "|   *   |\n",
      "|       |\n",
      "+-------+\n",
      "+-------+\n",
      "|       |\n",
      "|  ***  |\n",
      "| *   * |\n",
      "|   **  |\n",
      "|   *   |\n",
      "|       |\n",
      "|  ***  |\n",
      "|       |\n",
      "+-------+\n",
      "+-------+\n",
      "|       |\n",
      "|  ***  |\n",
      "| *   * |\n",
      "|   **  |\n",
      "|   *   |\n",
      "|       |\n",
      "|  ***  |\n",
      "|       |\n",
      "+-------+\n"
     ]
    }
   ],
   "source": [
    "result_set = DataSet(8, 7)\n",
    "for i in range(len(training_set.patterns)):\n",
    "    result = hopfield_net.run(training_set.patterns[i], max_cycles=10)\n",
    "    result_set.patterns.append(result)\n",
    "result_set.display_patterns()"
   ]
  },
  {
   "cell_type": "markdown",
   "id": "1f7de64d",
   "metadata": {},
   "source": [
    "Original pattern 1 was found but patterns 2 and 3 created one common local energy minimum that does not correspond to the original patterns. Phantom appeared in neural network because 2 a 3 are close to each other. \n",
    "\n",
    "This issue of overloading Hopfield net can be solved by distribution of patterns in the input space."
   ]
  },
  {
   "cell_type": "code",
   "execution_count": 9,
   "id": "c39058e7",
   "metadata": {},
   "outputs": [
    {
     "name": "stdout",
     "output_type": "stream",
     "text": [
      "+-------+\n",
      "|  *    |\n",
      "| **    |\n",
      "|* *    |\n",
      "|  *    |\n",
      "|  *    |\n",
      "|  *    |\n",
      "|       |\n",
      "|       |\n",
      "+-------+\n",
      "+-------+\n",
      "|       |\n",
      "|  ***  |\n",
      "| *   * |\n",
      "|    *  |\n",
      "|   *   |\n",
      "|  *    |\n",
      "| ***** |\n",
      "|       |\n",
      "+-------+\n",
      "+-------+\n",
      "|       |\n",
      "|       |\n",
      "|   *** |\n",
      "|  *   *|\n",
      "|    ** |\n",
      "|      *|\n",
      "|  *   *|\n",
      "|   *** |\n",
      "+-------+\n"
     ]
    }
   ],
   "source": [
    "patterns = [\n",
    "    [\n",
    "    [0, 0, 1, 0, 0, 0, 0],\n",
    "    [0, 1, 1, 0, 0, 0, 0],\n",
    "    [1, 0, 1, 0, 0, 0, 0],\n",
    "    [0, 0, 1, 0, 0, 0, 0],\n",
    "    [0, 0, 1, 0, 0, 0, 0],\n",
    "    [0, 0, 1, 0, 0, 0, 0],\n",
    "    [0, 0, 0, 0, 0, 0, 0],\n",
    "    [0, 0, 0, 0, 0, 0, 0],\n",
    "    ],\n",
    "    [\n",
    "    [0, 0, 0, 0, 0, 0, 0],\n",
    "    [0, 0, 1, 1, 1, 0, 0],\n",
    "    [0, 1, 0, 0, 0, 1, 0],\n",
    "    [0, 0, 0, 0, 1, 0, 0],\n",
    "    [0, 0, 0, 1, 0, 0, 0],\n",
    "    [0, 0, 1, 0, 0, 0, 0],\n",
    "    [0, 1, 1, 1, 1, 1, 0],\n",
    "    [0, 0, 0, 0, 0, 0, 0],\n",
    "    ],\n",
    "    [\n",
    "    [0, 0, 0, 0, 0, 0, 0],\n",
    "    [0, 0, 0, 0, 0, 0, 0],\n",
    "    [0, 0, 0, 1, 1, 1, 0],\n",
    "    [0, 0, 1, 0, 0, 0, 1],\n",
    "    [0, 0, 0, 0, 1, 1, 0],\n",
    "    [0, 0, 0, 0, 0, 0, 1],\n",
    "    [0, 0, 1, 0, 0, 0, 1],\n",
    "    [0, 0, 0, 1, 1, 1, 0],\n",
    "    ]\n",
    "]\n",
    "\n",
    "training_set = DataSet(8, 7)\n",
    "for pattern in patterns:\n",
    "        training_set.add_pattern(pattern)\n",
    "training_set.display_patterns()"
   ]
  },
  {
   "cell_type": "markdown",
   "id": "3239c109",
   "metadata": {},
   "source": [
    "**Create new net and train it with new data.**"
   ]
  },
  {
   "cell_type": "code",
   "execution_count": 10,
   "id": "f5bb1ffd",
   "metadata": {},
   "outputs": [],
   "source": [
    "hopfield_net = HopfieldNet(training_set.num_neurons)\n",
    "hopfield_net.train(training_set.patterns)"
   ]
  },
  {
   "cell_type": "markdown",
   "id": "4ae2e610",
   "metadata": {},
   "source": [
    "**Define new input data set with three noisy inputs**"
   ]
  },
  {
   "cell_type": "code",
   "execution_count": 11,
   "id": "5a95752f",
   "metadata": {},
   "outputs": [
    {
     "name": "stdout",
     "output_type": "stream",
     "text": [
      "+-------+\n",
      "|* *  * |\n",
      "| **    |\n",
      "|* *    |\n",
      "|  * *  |\n",
      "|  *    |\n",
      "|   *   |\n",
      "|     * |\n",
      "|       |\n",
      "+-------+\n",
      "+-------+\n",
      "|*      |\n",
      "|*   *  |\n",
      "|**   * |\n",
      "|    ** |\n",
      "|   *   |\n",
      "|  * *  |\n",
      "| ***** |\n",
      "|  * *  |\n",
      "+-------+\n",
      "+-------+\n",
      "|       |\n",
      "| **  * |\n",
      "|   *** |\n",
      "|  *   *|\n",
      "|    ** |\n",
      "| *    *|\n",
      "|  *   *|\n",
      "|  ** * |\n",
      "+-------+\n"
     ]
    }
   ],
   "source": [
    "inputs = [\n",
    "    [\n",
    "    [1, 0, 1, 0, 0, 1, 0],\n",
    "    [0, 1, 1, 0, 0, 0, 0],\n",
    "    [1, 0, 1, 0, 0, 0, 0],\n",
    "    [0, 0, 1, 0, 1, 0, 0],\n",
    "    [0, 0, 1, 0, 0, 0, 0],\n",
    "    [0, 0, 0, 1, 0, 0, 0],\n",
    "    [0, 0, 0, 0, 0, 1, 0],\n",
    "    [0, 0, 0, 0, 0, 0, 0],\n",
    "    ],\n",
    "    [\n",
    "    [1, 0, 0, 0, 0, 0, 0],\n",
    "    [1, 0, 0, 0, 1, 0, 0],\n",
    "    [1, 1, 0, 0, 0, 1, 0],\n",
    "    [0, 0, 0, 0, 1, 1, 0],\n",
    "    [0, 0, 0, 1, 0, 0, 0],\n",
    "    [0, 0, 1, 0, 1, 0, 0],\n",
    "    [0, 1, 1, 1, 1, 1, 0],\n",
    "    [0, 0, 1, 0, 1, 0, 0],\n",
    "    ],\n",
    "    [\n",
    "    [0, 0, 0, 0, 0, 0, 0],\n",
    "    [0, 1, 1, 0, 0, 1, 0],\n",
    "    [0, 0, 0, 1, 1, 1, 0],\n",
    "    [0, 0, 1, 0, 0, 0, 1],\n",
    "    [0, 0, 0, 0, 1, 1, 0],\n",
    "    [0, 1, 0, 0, 0, 0, 1],\n",
    "    [0, 0, 1, 0, 0, 0, 1],\n",
    "    [0, 0, 1, 1, 0, 1, 0],\n",
    "    ]\n",
    "]\n",
    "\n",
    "input_set = DataSet(8, 7)\n",
    "for input_pattern in inputs:\n",
    "    input_set.add_pattern(input_pattern)\n",
    "input_set.display_patterns()"
   ]
  },
  {
   "cell_type": "markdown",
   "id": "5e4bde38",
   "metadata": {},
   "source": [
    "**Searching for the nearest pattern**\n",
    "\n",
    "Hopfield Net finds the local minima of its energy through relaxation algorithm."
   ]
  },
  {
   "cell_type": "code",
   "execution_count": 12,
   "id": "006aa16d",
   "metadata": {},
   "outputs": [
    {
     "name": "stdout",
     "output_type": "stream",
     "text": [
      "+-------+\n",
      "|  *    |\n",
      "| **    |\n",
      "|* *    |\n",
      "|  *    |\n",
      "|  *    |\n",
      "|  *    |\n",
      "|       |\n",
      "|       |\n",
      "+-------+\n",
      "+-------+\n",
      "|       |\n",
      "|  ***  |\n",
      "| *   * |\n",
      "|    *  |\n",
      "|   *   |\n",
      "|  *    |\n",
      "| ***** |\n",
      "|       |\n",
      "+-------+\n",
      "+-------+\n",
      "|       |\n",
      "|       |\n",
      "|   *** |\n",
      "|  *   *|\n",
      "|    ** |\n",
      "|      *|\n",
      "|  *   *|\n",
      "|   *** |\n",
      "+-------+\n"
     ]
    }
   ],
   "source": [
    "result_set = DataSet(8, 7)\n",
    "for i in range(len(input_set.patterns)):\n",
    "    result = hopfield_net.run(input_set.patterns[i], max_cycles=10)\n",
    "    result_set.patterns.append(result)\n",
    "result_set.display_patterns()"
   ]
  },
  {
   "cell_type": "markdown",
   "id": "fcc6e516",
   "metadata": {},
   "source": [
    "All required patterns were found. 👍"
   ]
  },
  {
   "cell_type": "markdown",
   "id": "d4a4b5e2",
   "metadata": {},
   "source": [
    "## Summary\n",
    "\n",
    "Hopfield networks, a type of recurrent artificial neural network, have been widely studied and applied, particularly for their ability to act as content-addressable (“associative”) memory systems. Despite their interesting properties and applications, there are several limitations associated with Hopfield nets:\n",
    "\n",
    "* **Limited Capacity**: Hopfield networks can store only a limited number of patterns. The general rule of thumb is that a Hopfield network can store about **0.15 times the number of neurons** before the network becomes saturated and retrieval accuracy diminishes. This limitation arises from the nature of their energy landscape, where adding too many patterns can create confusing overlaps in the state space.\n",
    "* **Spurious States**: Besides the desired attractor states (the memories), Hopfield networks can have spurious or undesired attractor states. These are states not explicitly stored but arise from the combinations of the stored patterns. These spurious states can lead to incorrect retrieval of memories.\n",
    "* **Binary Units**: Traditional Hopfield networks use binary threshold units, which can limit their applicability to real-world problems that may require continuous or multi-level responses. While variations exist that use continuous values, they are not as widely analyzed or understood.\n",
    "* **Convergence to Local Minima**: Hopfield networks are susceptible to converging to local minima rather than the global minimum in their energy landscape. This issue means that the network may settle on a suboptimal pattern that is not the closest match to the input if that pattern has a stronger attraction or if the input is closer to a local minimum.\n",
    "\n",
    "These limitations underscore the importance of understanding the specific characteristics and requirements of a problem before choosing Hopfield networks as a solution. For many modern applications, alternative neural network architectures may offer more flexibility and capacity.\n",
    "\n"
   ]
  },
  {
   "cell_type": "code",
   "execution_count": null,
   "id": "29994074-13e3-4985-b231-fd0d088b0a81",
   "metadata": {
    "trusted": false
   },
   "outputs": [],
   "source": []
  }
 ],
 "metadata": {
  "kernelspec": {
   "display_name": "Python 3",
   "language": "python",
   "name": "python3"
  },
  "language_info": {
   "codemirror_mode": {
    "name": "ipython",
    "version": 3
   },
   "file_extension": ".py",
   "mimetype": "text/x-python",
   "name": "python",
   "nbconvert_exporter": "python",
   "pygments_lexer": "ipython3",
   "version": "3.12.3"
  }
 },
 "nbformat": 4,
 "nbformat_minor": 5
}
