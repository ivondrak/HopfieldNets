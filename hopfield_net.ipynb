{
 "cells": [
  {
   "attachments": {
    "0d717539-0c9a-46da-b342-51b75e4e7977.png": {
     "image/png": "[encoded data removed]"
    }
   },
   "cell_type": "markdown",
   "id": "c0061f99-264f-4171-971c-ae30e3a446ec",
   "metadata": {},
   "source": [
    "## Hopfield network\n",
    "### Theoretical background\n",
    "A Hopfield Network is a type of recurrent neural network composed of interconnected neurons, or nodes, which can have binary states, typically +1 and -1 (or alternatively, 1 and 0). Each neuron represents an element of memory or a specific pattern. In this fully connected network, every neuron connects to every other neuron include itself, with self-connections often set to zero. The connections between neurons are assigned weights, which are usually binary values of +1 or -1, indicating the strength of the association between them.\n",
    "\n",
    "An important feature of a Hopfield Network is its energy function, which helps the network determine its state. As the network approaches a stable state—one that corresponds to a stored pattern or set of patterns—its energy level decreases. The network updates its states in discrete time steps, influenced by the states of the neurons to which each is connected. Typically, neurons update their states according to a simple rule, like the McCulloch-Pitts model, either asynchronously (one neuron at a time) or sequentially, until the network reaches a stable state.\n",
    "\n",
    "**The Architecture of a Hopfield Network:**\n",
    "The Hopfield network architecture consists of the following components:\n",
    "* Each node retains its current state until an update is required.\n",
    "* Nodes are updated one at a time, selected randomly.\n",
    "* Every node is connected to all other nodes, except itself.\n",
    "* Each node can have a state of either 0 and 1, or +1 and -1.\n",
    "Below is an illustration of a Hopfield network with a three-node example architecture:\n",
    "\n",
    "<img src=\"attachment:0d717539-0c9a-46da-b342-51b75e4e7977.png\" style=\"float: center; margin-right: 1em;\"/> \n",
    "\n",
    "Each symbol in the diagram above denotes:\n",
    "\n",
    "* $x_1$, $x_2$ , and $x_3$  stand in for the input.\n",
    "* Each node’s output is represented by the numbers $y_1$ , $y_2$ , and $y_3$ .\n",
    "* $W_{ij}$ is a symbol for the weight of the link between $i$ and $j$.\n",
    "\n",
    "**Training A Hopfield Network:**\n",
    "\n",
    "*1.Initialization:*\n",
    "* Define the weight matrix $𝑊$, trained with patterns using the Hebbian learning rule:\n",
    "  $${\\displaystyle W_{ij}={\\frac {1}{N}}\\sum _{p=1}^{P}x_i^{p}x_j^{p}}$$\n",
    "    In this formula:\n",
    "* $W_{ij}$ represents the weight between neuron $i$ and neuron $j$.\n",
    "* $N$ is the total number of neurons in the network.\n",
    "* $P$ is the number of patterns to be stored.\n",
    "* $x_i^p$ and $x_j^p$ are the states of neurons $i$ and $j$ in the $p-th$ pattern, where $p$ ranges from $1$ to $P$.\n",
    "\n",
    "*2.Input State:*\n",
    "* Start with an input vector $S^{0}$ , which could be noisy or incomplete.\n",
    "\n",
    "*3.Update Rule:*\n",
    "* For each neuron $i$:\n",
    "    $${\\displaystyle h_i=\\sum _{j}W_{ij}S_j}$$\n",
    "  where $h_i$ is the net input to neuron $i$.\n",
    "\n",
    "* Update the state of neuron $i$ using a threshold function:\n",
    "\n",
    "  \n",
    "    $${S_i=sign(h_i)=\\begin{cases}1 & if\\;h_i > 0\\\\-1 & if\\;h_i < 0\\\\S_i & if \\;h_i = 0\\end{cases} }$$\n",
    "  \n",
    "*4.Iterate Until Convergence:*\n",
    "* Repeat the update step for all neurons (synchronously or asynchronously) until the network stabilizes, i.e., no further changes in $S$.\n",
    "\n",
    "*5.Output:*\n",
    "* The stable state $S^{(final)}$ represents the recalled pattern.\n",
    "\n",
    "\n",
    "**Applications:**\n",
    "\n",
    "* Pattern Recognition: Identifying patterns accurately, even with incomplete or noisy inputs.\n",
    "* Image Restoration: Reconstructing corrupted or missing parts of images.\n",
    "Optimization: Solving optimization problems, such as the traveling salesman problem.\n",
    "Content-Addressable Memory: Accessing information based on content rather than address.\n",
    "\n",
    "**Advantages:**\n",
    "\n",
    "* Simplicity and Robustness: Straightforward to implement and resistant to noise.\n",
    "* Associative Memory: Capable of recalling patterns even with partial or noisy inputs.\n",
    "* Energy Minimization: Provides a clear objective function, aiding in training and analysis.\n",
    "\n",
    "**Disadvantages:**\n",
    "* Limited Storage Capacity: Can only store a finite number of patterns before interference occurs.\n",
    "* Susceptibility to Spurious States: May converge on unwanted local minima.\n",
    "Not Suited for Complex Tasks: Has limitations with sequential or temporal data.\n",
    "In essence, a Hopfield network is an effective tool for pattern storage and retrieval, highlighting the potential of neural networks in solving real-world problems."
   ]
  },
  {
   "cell_type": "markdown",
   "id": "a5dbb56f-0cc5-4f0a-9f0e-974a2010e9f6",
   "metadata": {},
   "source": [
    "### Implemenation in Python"
   ]
  },
  {
   "cell_type": "markdown",
   "id": "69abdf32-caae-46ad-987f-edf801d79982",
   "metadata": {},
   "source": [
    "**Install modules**"
   ]
  },
  {
   "cell_type": "code",
   "execution_count": 12,
   "id": "2f4c17cb-74db-491a-a236-29fc31694b7d",
   "metadata": {
    "trusted": true
   },
   "outputs": [],
   "source": [
    "#pip install numpy"
   ]
  },
  {
   "cell_type": "code",
   "execution_count": 13,
   "id": "7904c6e0-ac2e-45f9-aefc-a610036aa4d5",
   "metadata": {
    "trusted": true
   },
   "outputs": [],
   "source": [
    "#pip install matplotlib"
   ]
  },
  {
   "cell_type": "markdown",
   "id": "3a5ca129-105d-486b-a7df-3b6aee8e3219",
   "metadata": {},
   "source": [
    "**Import modules**"
   ]
  },
  {
   "cell_type": "code",
   "execution_count": 14,
   "id": "f724a628-3ae4-4d6a-a84d-765081726d64",
   "metadata": {
    "trusted": true
   },
   "outputs": [],
   "source": [
    "import numpy as np\n",
    "import matplotlib.pyplot as plt\n",
    "\n",
    "class HopfieldNetwork:\n",
    "    def __init__(self, size):\n",
    "        self.size = size\n",
    "        self.weights = np.zeros((size, size))\n",
    "    \n",
    "    def train(self, patterns):\n",
    "        \"\"\"\n",
    "        Train the Hopfield network using the Hebbian learning rule.\n",
    "        \"\"\"\n",
    "        for pattern in patterns:\n",
    "            pattern = pattern.flatten()\n",
    "            self.weights += np.outer(pattern, pattern)\n",
    "        np.fill_diagonal(self.weights, 0)  # No self-connections\n",
    "        self.weights /= len(patterns)  # Normalize by the number of patterns\n",
    "    \n",
    "    def recall(self, pattern, steps=10000):\n",
    "        \"\"\"\n",
    "        Recall a pattern using asynchronous update.\n",
    "        \"\"\"\n",
    "        pattern = pattern.flatten()\n",
    "        for _ in range(steps):\n",
    "            i = np.random.randint(0, self.size)\n",
    "            pattern[i] = 1 if np.dot(self.weights[i], pattern) > 0 else -1\n",
    "        return pattern.reshape(int(np.sqrt(self.size)), int(np.sqrt(self.size)))\n",
    "\n",
    "    def plot_pattern(self, pattern, title=\"Pattern\"):\n",
    "        \"\"\"\n",
    "        Plot a 16x16 pattern.\n",
    "        \"\"\"\n",
    "        plt.imshow(pattern)\n",
    "        plt.title(title)\n",
    "        plt.axis(\"off\")\n",
    "        plt.show()"
   ]
  },
  {
   "cell_type": "markdown",
   "id": "c19fd39e-bba1-4e93-b303-8fb93ae6722e",
   "metadata": {},
   "source": [
    "**Initialize the HopfieldNetwork**"
   ]
  },
  {
   "cell_type": "code",
   "execution_count": 15,
   "id": "0a70493c-5ec7-421f-b03a-c5db5f4bd7b6",
   "metadata": {
    "trusted": true
   },
   "outputs": [],
   "source": [
    "# Create a 16x16 grid Hopfield network\n",
    "grid_size = 16\n",
    "hopfield_net = HopfieldNetwork(grid_size**2)\n",
    "\n"
   ]
  },
  {
   "cell_type": "markdown",
   "id": "4a245211-4f32-4989-a051-a7b2ca20b343",
   "metadata": {},
   "source": [
    "**Generate pattern**"
   ]
  },
  {
   "cell_type": "code",
   "execution_count": 16,
   "id": "3f9d9f8d-e778-4da0-91ff-19a57768b3c3",
   "metadata": {
    "trusted": true
   },
   "outputs": [
    {
     "data": {
      "image/png": "[encoded data removed]",
      "text/plain": [
       "<Figure size 640x480 with 1 Axes>"
      ]
     },
     "metadata": {},
     "output_type": "display_data"
    },
    {
     "data": {
      "image/png": "[encoded data removed]",
      "text/plain": [
       "<Figure size 640x480 with 1 Axes>"
      ]
     },
     "metadata": {},
     "output_type": "display_data"
    }
   ],
   "source": [
    "# Generate and train on patterns\n",
    "data_1 = [[1, 1, 1, 1, 1 ,-1,1,1,1,1,1,1,1,1,1,1],\n",
    "       [1, -1, 1, 1, 1 ,-1,1,1,1,1,1,1,1,1,1,1],\n",
    "       [1, 1, 1, 1, 1 ,-1,1,1,1,1,1,1,1,1,1,1],\n",
    "       [1, -1, 1, 1, 1 ,-1,1,1,1,1,1,1,1,1,1,1],\n",
    "       [1, 1, 1, 1, 1 ,-1,1,1,1,1,1,1,1,1,1,1],\n",
    "       [1, -1, 1, 1, 1 ,-1,1,1,1,1,1,1,1,1,1,1],\n",
    "       [1, 1, 1, 1, 1 ,-1,1,1,1,1,1,1,1,1,1,1],\n",
    "       [1, -1, 1, 1, 1 ,-1,1,1,1,1,1,1,1,1,1,1],\n",
    "       [1, 1, 1, 1, 1 ,-1,1,1,1,1,1,1,1,1,1,1],\n",
    "       [1, -1, 1, 1, 1 ,-1,1,1,1,1,1,1,1,1,1,1],\n",
    "       [1, 1, 1, 1, 1 ,-1,1,1,1,1,1,1,1,1,1,1],\n",
    "       [1, -1, 1, 1, 1 ,-1,1,1,1,1,1,1,1,1,1,1],\n",
    "       [1, 1, 1, 1, 1 ,-1,1,1,1,1,1,1,1,1,1,1],\n",
    "       [1, -1, 1, 1, 1 ,-1,1,1,1,1,1,1,1,1,1,1],\n",
    "       [1, 1, 1, 1, 1 ,-1,1,1,1,1,1,1,1,1,1,1],\n",
    "       [1, -1, 1, 1, 1 ,-1,1,1,1,1,1,1,1,1,1,1]]\n",
    "\n",
    "data_2 = [[1, 1, 1, 1, 1 ,-1,1,1,1,1,1,1,-1,1,1,1],\n",
    "       [1, -1, 1, 1, 1 ,-1,1,1,1,1,1,1,-1,1,1,1],\n",
    "       [1, 1, 1, 1, 1 ,-1,1,1,1,1,1,1,-1,1,1,1],\n",
    "       [1, -1, 1, 1, 1 ,-1,1,1,1,1,1,1,-1,1,1,1],\n",
    "       [1, 1, 1, 1, 1 ,-1,1,1,1,1,1,1,-1,1,1,1],\n",
    "       [1, -1, 1, 1, 1 ,-1,1,1,1,1,1,1,-1,1,1,1],\n",
    "       [1, 1, 1, 1, 1 ,-1,1,1,1,1,1,1,-1,1,1,1],\n",
    "       [1, -1, 1, 1, 1 ,-1,1,1,1,1,1,1,-1,1,1,1],\n",
    "       [1, 1, 1, 1, 1 ,-1,1,1,1,1,1,1,-1,1,1,1],\n",
    "       [1, -1, 1, 1, 1 ,-1,1,1,1,1,1,1,-1,1,1,1],\n",
    "       [1, 1, 1, 1, 1 ,-1,1,1,1,1,1,1,-1,1,1,1],\n",
    "       [1, -1, 1, 1, 1 ,-1,1,1,1,1,1,1,-1,1,1,1],\n",
    "       [1, 1, 1, 1, 1 ,-1,1,1,1,1,1,1,-1,1,1,1],\n",
    "       [1, -1, 1, 1, 1 ,-1,1,1,1,1,1,1,-1,1,1,1],\n",
    "       [1, 1, 1, 1, 1 ,-1,1,1,1,1,1,1,-1,1,1,1],\n",
    "       [1, -1, 1, 1, 1 ,-1,1,1,1,1,1,1,-1,1,1,1]]\n",
    "pattern1 = np.array(data_1)\n",
    "pattern2 = np.array(data_2)\n",
    "patterns = [pattern1, pattern2]\n",
    "\n",
    "# Plot the original patterns\n",
    "hopfield_net.plot_pattern(pattern1, \"Original Pattern 1\")\n",
    "hopfield_net.plot_pattern(pattern2, \"Original Pattern 2\")"
   ]
  },
  {
   "cell_type": "markdown",
   "id": "57ef3c48-40c1-4939-912a-a28637f78846",
   "metadata": {},
   "source": [
    "**Train the HopfieldNetwork**"
   ]
  },
  {
   "cell_type": "code",
   "execution_count": 17,
   "id": "d3046bbc-841e-4f6d-9488-f15caf41065e",
   "metadata": {
    "trusted": true
   },
   "outputs": [],
   "source": [
    "hopfield_net.train(patterns)"
   ]
  },
  {
   "cell_type": "markdown",
   "id": "ef0f283e-dfd9-443e-81ac-9d064fc348d3",
   "metadata": {},
   "source": [
    "**Generate pattern with noise**"
   ]
  },
  {
   "cell_type": "code",
   "execution_count": 18,
   "id": "895544a1-26c3-4d53-82ca-169c9b559c48",
   "metadata": {
    "trusted": true
   },
   "outputs": [
    {
     "data": {
      "image/png": "[encoded data removed]",
      "text/plain": [
       "<Figure size 640x480 with 1 Axes>"
      ]
     },
     "metadata": {},
     "output_type": "display_data"
    },
    {
     "data": {
      "image/png": "[encoded data removed]",
      "text/plain": [
       "<Figure size 640x480 with 1 Axes>"
      ]
     },
     "metadata": {},
     "output_type": "display_data"
    }
   ],
   "source": [
    "# Test recall with noisy pattern\n",
    "\n",
    "noise_indices = np.random.choice(grid_size**2, size=50, replace=False)  # Add noise to 50 cells\n",
    "\n",
    "noisy_pattern_1 = pattern1.copy()\n",
    "noisy_pattern_1 = noisy_pattern_1.flatten()\n",
    "noisy_pattern_1[noise_indices] *= -1\n",
    "noisy_pattern_1 = noisy_pattern_1.reshape(grid_size, grid_size)\n",
    "\n",
    "noisy_pattern_2 = pattern2.copy()\n",
    "noisy_pattern_2 = noisy_pattern_2.flatten()\n",
    "noisy_pattern_2[noise_indices] *= -1\n",
    "noisy_pattern_2 = noisy_pattern_2.reshape(grid_size, grid_size)\n",
    "\n",
    "hopfield_net.plot_pattern(noisy_pattern_1, \"Noisy + Pattern input 1\")\n",
    "hopfield_net.plot_pattern(noisy_pattern_2, \"Noisy + Pattern input 2\")"
   ]
  },
  {
   "cell_type": "markdown",
   "id": "48591ab5-bc1e-4c36-afd9-87ffac5f2863",
   "metadata": {},
   "source": [
    "**Find the closest matching pattern**"
   ]
  },
  {
   "cell_type": "code",
   "execution_count": 19,
   "id": "5a77f669-c94f-482f-8f60-788963a6e86e",
   "metadata": {
    "trusted": true
   },
   "outputs": [
    {
     "data": {
      "image/png": "[encoded data removed]",
      "text/plain": [
       "<Figure size 640x480 with 1 Axes>"
      ]
     },
     "metadata": {},
     "output_type": "display_data"
    },
    {
     "data": {
      "image/png": "[encoded data removed]",
      "text/plain": [
       "<Figure size 640x480 with 1 Axes>"
      ]
     },
     "metadata": {},
     "output_type": "display_data"
    }
   ],
   "source": [
    "recalled_pattern_1 = hopfield_net.recall(noisy_pattern_1)\n",
    "recalled_pattern_2 = hopfield_net.recall(noisy_pattern_2)\n",
    "\n",
    "hopfield_net.plot_pattern(recalled_pattern_1, \"Recalled Pattern with input 1\")\n",
    "hopfield_net.plot_pattern(recalled_pattern_2, \"Recalled Pattern with input 2\")"
   ]
  },
  {
   "cell_type": "markdown",
   "id": "7102b80d-af3f-4ebe-8596-c1c721cb0f60",
   "metadata": {},
   "source": [
    "## Explanation\n",
    "**Matching Algorithm:**\n",
    "\n",
    "* The recall method is used to bring the input pattern to a stable state.\n",
    "* The match_pattern method then compares the recalled pattern to each stored pattern, measuring similarity by counting the number of matching elements.\n",
    "* The pattern with the highest similarity is considered the closest match.\n",
    "\n",
    "**Output:**\n",
    "* The output shows the input pattern, the closest matching stored pattern, and its index. This gives an idea of how well the input matches the stored patterns, even if it is noisy.\n",
    "\n",
    "**Example Output**\n",
    "\n",
    "For a noisy input pattern, the network will ideally match it to the closest stored pattern, showing the robustness of the Hopfield network in retrieving patterns despite imperfections in input."
   ]
  },
  {
   "cell_type": "code",
   "execution_count": null,
   "id": "29994074-13e3-4985-b231-fd0d088b0a81",
   "metadata": {
    "trusted": false
   },
   "outputs": [],
   "source": []
  }
 ],
 "metadata": {
  "kernelspec": {
   "display_name": "Python 3",
   "language": "python",
   "name": "python3"
  },
  "language_info": {
   "codemirror_mode": {
    "name": "ipython",
    "version": 3
   },
   "file_extension": ".py",
   "mimetype": "text/x-python",
   "name": "python",
   "nbconvert_exporter": "python",
   "pygments_lexer": "ipython3",
   "version": "3.12.3"
  }
 },
 "nbformat": 4,
 "nbformat_minor": 5
}
